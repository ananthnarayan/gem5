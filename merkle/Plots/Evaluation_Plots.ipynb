{
 "cells": [
  {
   "cell_type": "code",
   "execution_count": 18,
   "metadata": {},
   "outputs": [
    {
     "name": "stdout",
     "output_type": "stream",
     "text": [
      "Collecting plotly\n",
      "  Downloading plotly-4.9.0-py2.py3-none-any.whl (12.9 MB)\n",
      "\u001b[K     |████████████████████████████████| 12.9 MB 205 kB/s eta 0:00:01\n",
      "\u001b[?25hRequirement already satisfied: six in /home/chethan/anaconda3/lib/python3.7/site-packages (from plotly) (1.14.0)\n",
      "Collecting retrying>=1.3.3\n",
      "  Downloading retrying-1.3.3.tar.gz (10 kB)\n",
      "Building wheels for collected packages: retrying\n",
      "  Building wheel for retrying (setup.py) ... \u001b[?25ldone\n",
      "\u001b[?25h  Created wheel for retrying: filename=retrying-1.3.3-py3-none-any.whl size=11430 sha256=423c169de0ea949726576ff43a397a927863806f86e8ff2fd9b56a97c7c6ff53\n",
      "  Stored in directory: /home/chethan/.cache/pip/wheels/f9/8d/8d/f6af3f7f9eea3553bc2fe6d53e4b287dad18b06a861ac56ddf\n",
      "Successfully built retrying\n",
      "Installing collected packages: retrying, plotly\n",
      "Successfully installed plotly-4.9.0 retrying-1.3.3\n",
      "Note: you may need to restart the kernel to use updated packages.\n"
     ]
    }
   ],
   "source": [
    "%pip install plotly"
   ]
  },
  {
   "cell_type": "code",
   "execution_count": 1,
   "metadata": {},
   "outputs": [],
   "source": [
    "import numpy as np\n",
    "import pandas as pd\n",
    "import matplotlib.pyplot as plt \n",
    "import plotly.express as px\n",
    "import seaborn as sns"
   ]
  },
  {
   "cell_type": "code",
   "execution_count": 2,
   "metadata": {},
   "outputs": [],
   "source": [
    "data = pd.read_csv(\"Evaluation-Gem5-Sheet1.csv\")"
   ]
  },
  {
   "cell_type": "code",
   "execution_count": 11,
   "metadata": {},
   "outputs": [
    {
     "data": {
      "text/html": [
       "<div>\n",
       "<style scoped>\n",
       "    .dataframe tbody tr th:only-of-type {\n",
       "        vertical-align: middle;\n",
       "    }\n",
       "\n",
       "    .dataframe tbody tr th {\n",
       "        vertical-align: top;\n",
       "    }\n",
       "\n",
       "    .dataframe thead th {\n",
       "        text-align: right;\n",
       "    }\n",
       "</style>\n",
       "<table border=\"1\" class=\"dataframe\">\n",
       "  <thead>\n",
       "    <tr style=\"text-align: right;\">\n",
       "      <th></th>\n",
       "      <th>Attributes</th>\n",
       "      <th>1K-DDR</th>\n",
       "      <th>1K-PIM</th>\n",
       "      <th>1M-DDR</th>\n",
       "      <th>1M-PIM</th>\n",
       "      <th>8M-DDR</th>\n",
       "      <th>8M-PIM</th>\n",
       "    </tr>\n",
       "  </thead>\n",
       "  <tbody>\n",
       "    <tr>\n",
       "      <th>0</th>\n",
       "      <td>system.cpu.icache.overall_accesses::total</td>\n",
       "      <td>1275995</td>\n",
       "      <td>25749</td>\n",
       "      <td>334892729</td>\n",
       "      <td>977344</td>\n",
       "      <td>NaN</td>\n",
       "      <td>NaN</td>\n",
       "    </tr>\n",
       "    <tr>\n",
       "      <th>1</th>\n",
       "      <td>system.cpu.dcache.overall_accesses::total</td>\n",
       "      <td>457214</td>\n",
       "      <td>8837</td>\n",
       "      <td>128565629</td>\n",
       "      <td>273632</td>\n",
       "      <td>NaN</td>\n",
       "      <td>NaN</td>\n",
       "    </tr>\n",
       "    <tr>\n",
       "      <th>2</th>\n",
       "      <td>system.l2.overall_accesses::total</td>\n",
       "      <td>1093</td>\n",
       "      <td>999</td>\n",
       "      <td>9039</td>\n",
       "      <td>5731</td>\n",
       "      <td>NaN</td>\n",
       "      <td>NaN</td>\n",
       "    </tr>\n",
       "    <tr>\n",
       "      <th>3</th>\n",
       "      <td>system.l2.overall_miss_latency::total</td>\n",
       "      <td>101870000</td>\n",
       "      <td>142004000</td>\n",
       "      <td>316481000</td>\n",
       "      <td>790122000</td>\n",
       "      <td>NaN</td>\n",
       "      <td>NaN</td>\n",
       "    </tr>\n",
       "    <tr>\n",
       "      <th>4</th>\n",
       "      <td>system.membus.reqLayer0.occupancy</td>\n",
       "      <td>1089000</td>\n",
       "      <td>9980</td>\n",
       "      <td>3494000</td>\n",
       "      <td>55640</td>\n",
       "      <td>2360000.0</td>\n",
       "      <td>15460.0</td>\n",
       "    </tr>\n",
       "    <tr>\n",
       "      <th>5</th>\n",
       "      <td>system.membus.respLayer0.occupancy</td>\n",
       "      <td>5814000</td>\n",
       "      <td>49900</td>\n",
       "      <td>18502750</td>\n",
       "      <td>278200</td>\n",
       "      <td>NaN</td>\n",
       "      <td>NaN</td>\n",
       "    </tr>\n",
       "    <tr>\n",
       "      <th>6</th>\n",
       "      <td>system.cpu.numCycles</td>\n",
       "      <td>3571571</td>\n",
       "      <td>214023</td>\n",
       "      <td>927371890</td>\n",
       "      <td>3311601</td>\n",
       "      <td>NaN</td>\n",
       "      <td>NaN</td>\n",
       "    </tr>\n",
       "  </tbody>\n",
       "</table>\n",
       "</div>"
      ],
      "text/plain": [
       "                                   Attributes     1K-DDR     1K-PIM  \\\n",
       "0   system.cpu.icache.overall_accesses::total    1275995      25749   \n",
       "1  system.cpu.dcache.overall_accesses::total      457214       8837   \n",
       "2           system.l2.overall_accesses::total       1093        999   \n",
       "3       system.l2.overall_miss_latency::total  101870000  142004000   \n",
       "4           system.membus.reqLayer0.occupancy    1089000       9980   \n",
       "5          system.membus.respLayer0.occupancy    5814000      49900   \n",
       "6                        system.cpu.numCycles    3571571     214023   \n",
       "\n",
       "      1M-DDR     1M-PIM     8M-DDR   8M-PIM  \n",
       "0  334892729     977344        NaN      NaN  \n",
       "1  128565629     273632        NaN      NaN  \n",
       "2       9039       5731        NaN      NaN  \n",
       "3  316481000  790122000        NaN      NaN  \n",
       "4    3494000      55640  2360000.0  15460.0  \n",
       "5   18502750     278200        NaN      NaN  \n",
       "6  927371890    3311601        NaN      NaN  "
      ]
     },
     "execution_count": 11,
     "metadata": {},
     "output_type": "execute_result"
    }
   ],
   "source": [
    "data"
   ]
  },
  {
   "cell_type": "code",
   "execution_count": 4,
   "metadata": {},
   "outputs": [
    {
     "name": "stdout",
     "output_type": "stream",
     "text": [
      "['system.cpu.icache.overall_accesses::total', 'system.cpu.dcache.overall_accesses::total ', 'system.l2.overall_accesses::total', 'system.l2.overall_miss_latency::total', 'system.membus.reqLayer0.occupancy', 'system.membus.respLayer0.occupancy', 'system.cpu.numCycles']\n"
     ]
    }
   ],
   "source": [
    "print((list(data[\"Attributes\"])))"
   ]
  },
  {
   "cell_type": "code",
   "execution_count": 5,
   "metadata": {},
   "outputs": [],
   "source": [
    "attr = list(data[\"Attributes\"])\n",
    "ddr_1k = list(data[\"1K-DDR\"])\n",
    "pim_1k = list(data[\"1K-PIM\"])\n",
    "ddr_1m = list(data[\"1M-DDR\"])\n",
    "pim_1m = list(data[\"1M-PIM\"])"
   ]
  },
  {
   "cell_type": "code",
   "execution_count": 12,
   "metadata": {},
   "outputs": [],
   "source": [
    "ddr_list = []\n",
    "pim_list = []\n",
    "ddr_list.append(data['1K-DDR'][2])\n",
    "ddr_list.append(data['1M-DDR'][2])\n",
    "pim_list.append(data['1K-PIM'][2])\n",
    "pim_list.append(data['1M-PIM'][2])"
   ]
  },
  {
   "cell_type": "code",
   "execution_count": 13,
   "metadata": {},
   "outputs": [
    {
     "data": {
      "text/plain": [
       "<Figure size 216x360 with 0 Axes>"
      ]
     },
     "metadata": {},
     "output_type": "display_data"
    }
   ],
   "source": [
    "fig = plt.figure(figsize = (3, 5))"
   ]
  },
  {
   "cell_type": "code",
   "execution_count": 28,
   "metadata": {},
   "outputs": [
    {
     "data": {
      "image/png": "[encoded data removed]",
      "text/plain": [
       "<Figure size 432x288 with 1 Axes>"
      ]
     },
     "metadata": {
      "needs_background": "light"
     },
     "output_type": "display_data"
    }
   ],
   "source": [
    "#BAR GRAPHS\n",
    "plt.bar([\"DDR\",\"PIM\"], [ddr_1m[2],pim_1m[2]], color ='black', width = 0.5)\n",
    "plt.xticks([0,1])\n",
    "plt.title(\"Overall CPU i-cache accesses\") \n",
    "plt.show()"
   ]
  },
  {
   "cell_type": "code",
   "execution_count": 35,
   "metadata": {},
   "outputs": [
    {
     "data": {
      "image/png": "[encoded data removed]",
      "text/plain": [
       "<Figure size 576x720 with 1 Axes>"
      ]
     },
     "metadata": {
      "needs_background": "light"
     },
     "output_type": "display_data"
    }
   ],
   "source": [
    "#GROUPED BAR GRAPHS\n",
    "pos = list(range(2)) \n",
    "width = 0.25 \n",
    "    \n",
    "fig, ax = plt.subplots(figsize=(8,10))\n",
    "\n",
    "plt.bar(pos, ddr_list, width, alpha=0.5, color='#EC6927') \n",
    "plt.bar([p + width for p in pos], pim_list, width, alpha=0.5, color='#FF0000') \n",
    " \n",
    "ax.set_title('Overall CPU i-cache accesses')\n",
    "ax.set_xticks([p + 0.5 * width for p in pos])\n",
    "ax.set_xticklabels(['1K','1M'])\n",
    "\n",
    "# Setting the x-axis and y-axis limits\n",
    "# plt.xlim(min(pos)-width, max(pos)+width*4)\n",
    "# plt.ylim([10000, 400000000])\n",
    "\n",
    "plt.legend(['DDR','PIM'], loc='upper left')\n",
    "plt.xlabel('Workload sizes (bytes)')\n",
    "# plt.ylabel('AVERAGE THROUGHPUT (OPT/SEC)')\n",
    "# plt.grid()\n",
    "plt.show()"
   ]
  },
  {
   "cell_type": "code",
   "execution_count": 16,
   "metadata": {},
   "outputs": [
    {
     "data": {
      "image/png": "[encoded data removed]",
      "text/plain": [
       "<Figure size 432x288 with 1 Axes>"
      ]
     },
     "metadata": {
      "needs_background": "light"
     },
     "output_type": "display_data"
    }
   ],
   "source": [
    "#LINE GRAPHS\n",
    "workloads = ['1K','1M']\n",
    "values = []\n",
    "# values.append()\n",
    "plt.plot(workloads, pim_list, color='red', marker='o')\n",
    "plt.title('Performance of PIM with different workloads', fontsize=14)\n",
    "plt.xlabel('Workload sizes (bytes)', fontsize=14)\n",
    "# plt.ylabel('Unemployment Rate', fontsize=14)\n",
    "# plt.grid(True)\n",
    "plt.show()"
   ]
  },
  {
   "cell_type": "code",
   "execution_count": 17,
   "metadata": {},
   "outputs": [
    {
     "data": {
      "image/png": "[encoded data removed]",
      "text/plain": [
       "<Figure size 432x288 with 1 Axes>"
      ]
     },
     "metadata": {
      "needs_background": "light"
     },
     "output_type": "display_data"
    }
   ],
   "source": [
    "#MULTIPLE LINE GRAPHS\n",
    "workloads = ['1K','1M']\n",
    "values = []\n",
    "# values.append()\n",
    "plt.plot(workloads, pim_list, color='red', marker='o',label=\"PIM\")\n",
    "plt.plot(workloads, ddr_list, color='blue', marker='*',label=\"DDR\")\n",
    "plt.title('Performance of PIM with different workloads', fontsize=14)\n",
    "plt.xlabel('Workload sizes (bytes)', fontsize=14)\n",
    "plt.legend()\n",
    "# plt.ylabel('Unemployment Rate', fontsize=14)\n",
    "# plt.grid(True)\n",
    "plt.show()"
   ]
  },
  {
   "cell_type": "code",
   "execution_count": 26,
   "metadata": {},
   "outputs": [
    {
     "data": {
      "image/png": "[encoded data removed]",
      "text/plain": [
       "<Figure size 432x288 with 1 Axes>"
      ]
     },
     "metadata": {
      "needs_background": "light"
     },
     "output_type": "display_data"
    }
   ],
   "source": [
    "#Percentage improvement line graphs\n",
    "ratio = []\n",
    "# ratio.append(data['1K-DDR'][2]/data['1K-PIM'][2])\n",
    "# ratio.append(data['1M-DDR'][2]/data['1M-PIM'][2])\n",
    "ratio.append(data['1K-DDR'][2]/(data['1K-PIM'][2]+data['1K-DDR'][2]))\n",
    "ratio.append(data['1M-DDR'][2]/(data['1M-PIM'][2]+data['1M-DDR'][2]))\n",
    "plt.plot(workloads, ratio, color='red', marker='o')\n",
    "plt.title('Percentage of ')\n",
    "plt.xlabel('Workload sizes (bytes)', fontsize=14)\n",
    "# plt.legend()\n",
    "plt.show()"
   ]
  },
  {
   "cell_type": "code",
   "execution_count": null,
   "metadata": {},
   "outputs": [],
   "source": []
  }
 ],
 "metadata": {
  "kernelspec": {
   "display_name": "Python 3",
   "language": "python",
   "name": "python3"
  },
  "language_info": {
   "codemirror_mode": {
    "name": "ipython",
    "version": 3
   },
   "file_extension": ".py",
   "mimetype": "text/x-python",
   "name": "python",
   "nbconvert_exporter": "python",
   "pygments_lexer": "ipython3",
   "version": "3.7.6"
  }
 },
 "nbformat": 4,
 "nbformat_minor": 4
}
